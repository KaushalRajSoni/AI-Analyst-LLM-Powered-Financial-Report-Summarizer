{
 "cells": [
  {
   "cell_type": "markdown",
   "metadata": {
    "id": "2aPi5iqWfqah"
   },
   "source": [
    "# **Installing Libraries**"
   ]
  },
  {
   "cell_type": "code",
   "execution_count": null,
   "metadata": {
    "colab": {
     "base_uri": "https://localhost:8080/"
    },
    "id": "XjLmFHgDeeaq",
    "outputId": "54be5226-82d4-4601-e4bf-0af23a45f40a"
   },
   "outputs": [],
   "source": [
    "pip install transformers torch PyMuPDF"
   ]
  },
  {
   "cell_type": "markdown",
   "metadata": {
    "id": "BhS1_8hvfyhD"
   },
   "source": [
    "# **Importing Libraries**"
   ]
  },
  {
   "cell_type": "code",
   "execution_count": null,
   "metadata": {
    "id": "FfZS_o5iWOhr"
   },
   "outputs": [],
   "source": [
    "import fitz  # PyMuPDF\n",
    "from transformers import AutoTokenizer, AutoModelForCausalLM\n",
    "import torch"
   ]
  },
  {
   "cell_type": "markdown",
   "metadata": {
    "id": "XWjrfKrcf5eS"
   },
   "source": [
    "# **Load The PDF**"
   ]
  },
  {
   "cell_type": "code",
   "execution_count": null,
   "metadata": {
    "id": "WRlpF7Yqf9a_"
   },
   "outputs": [],
   "source": [
    "def extract_text_from_pdf(pdf_path):\n",
    "    doc = fitz.open(pdf_path)\n",
    "    text = \"\"\n",
    "    for page in doc:\n",
    "        text += page.get_text()\n",
    "    return text"
   ]
  },
  {
   "cell_type": "markdown",
   "metadata": {
    "id": "t5rmUgwqgCEL"
   },
   "source": [
    "# **Chunk the PDF text**"
   ]
  },
  {
   "cell_type": "code",
   "execution_count": null,
   "metadata": {
    "id": "siTHY825gJ5S"
   },
   "outputs": [],
   "source": [
    "def chunk_text(text, max_chunk_length=1000):\n",
    "    paragraphs = text.split(\"\\n\")\n",
    "    chunks = []\n",
    "    current_chunk = \"\"\n",
    "    for para in paragraphs:\n",
    "        if len(current_chunk) + len(para) <= max_chunk_length:\n",
    "            current_chunk += para + \"\\n\"\n",
    "        else:\n",
    "            chunks.append(current_chunk.strip())\n",
    "            current_chunk = para + \"\\n\"\n",
    "    if current_chunk:\n",
    "        chunks.append(current_chunk.strip())\n",
    "    return chunks\n"
   ]
  },
  {
   "cell_type": "markdown",
   "metadata": {
    "id": "iA__ik0OgRHT"
   },
   "source": [
    "# **Load LLM**"
   ]
  },
  {
   "cell_type": "code",
   "execution_count": null,
   "metadata": {
    "colab": {
     "base_uri": "https://localhost:8080/",
     "height": 296,
     "referenced_widgets": [
      "38ab7f43205e40d18fb1d71658ad484e",
      "96add0ff17634007b21a08f0487cc69b",
      "45f773e782074652a3f958991e7b70ff",
      "829019b4b2aa49d2b5db30cb44ced244",
      "ee7e56a2646c4044a1f0b617a849961b",
      "640edba7acd34c898558ec2e1abeeb6a",
      "2860be7b5d7a4c70986adfc0e2ee881b",
      "04689c4bbdb84e0487c68325bd5ca0c2",
      "b56cb5d06ec74b19be9651cb8240f348",
      "4ee639a55c6d4887a9e835ccbfe8cf5a",
      "342c26574b6749169040c228da9de8c1",
      "9b8da1f476c940d19e76cae49494ad0b",
      "d6956dc03bb343dea3d7677897969f07",
      "570991b359d74d7f89779e848f84b1bb",
      "20cd8ddf46fc4910b3cf5226f9d74208",
      "fd532b66f5604a02a2302515c54d6499",
      "77c6b384a238409d8d3585e38df77532",
      "bc57d28faeb4434cae3e2d9ce73753ea",
      "71b4e2a0d5124f61a1943c5f4eeeacc8",
      "ebfe4184b9854d3abada01c57f938d50",
      "848bb433ca95444fbfc6c2881fb8b15c",
      "96b55876a4e1472bb05cb62a0344abd4",
      "a2dfefa02a3e4948863731420470c3d7",
      "6fe9a620f93642d4b79bd0aa6359d634",
      "d10fe83ae93e4e59a1b9b6d0f85f2e4f",
      "24b49d92318446209609172455282896",
      "5516531f39a946d7b0ac26557820c30c",
      "3cbd87db86b242a0b2e355cc2f28286b",
      "b88ad6257f984f0685c3296525211140",
      "0db7c9ccce1c4306b45ae5028506375b",
      "555f82bbe8b44e9fbc434185502eab79",
      "fa0af3f57b9841798a18ebdba1db8208",
      "90bcc45e19124d398e6fece04d95eca8",
      "7bb2dd279c53482d931ee959bdeb54c1",
      "a4cead81b9e746f9b68efaae6b0c6087",
      "ce6e45a460c842a68472c78b79834c0e",
      "241e57e1297c464f9929081911145c05",
      "41919092c23942b385e9cb8d20992d67",
      "7dd4f7ca5f4e4b838572171c6be195db",
      "0ef560cf743c475d8e9b73d6df987443",
      "b57e89a18efd43e3ae78a8d6860bb10e",
      "88e45e69fafd42998ae20fc623eaf7e5",
      "2e474c046ac141799d30700d4b276a37",
      "3258a5aa28c54e9492002a1e0a9e2783",
      "ed2f220d62eb4dc6af2f5bdc44ad1e14",
      "bb22e5909aa843c5a3ad2ac0a9174c3c",
      "b9c2a76fd08e4ea7a3dad648b01adebf",
      "2c038f84360545bf8cfab2328f9e5448",
      "a393d911293244de8f60b9183fdfb2d5",
      "e75fd918fc4f4dd39177d03a8643ec7d",
      "1cfd7e766b96444788b031a8338500b4",
      "8ca7f3f01b484641b4e3b6490a3e10dc",
      "618ee0069aa847b3acc4184db7713594",
      "8fdeb42c11a74aa189194ed19aaba8c6",
      "a17e3ebbc47440598c8b7f5cef0e8b13",
      "f28afbcd38b44034b0ebfb20b3a7eb1e",
      "3215400c71de4dff8971c62fd2813567",
      "8b0fca288430441d98d8837769f7d483",
      "8a3f936a98c744b2bca6c97a8412e118",
      "58f325f29961482d95fb169dd02cb593",
      "0261431df07040c5bbe4c9800bb49c78",
      "aa6505a902b0499ab6f0de95a5a916d5",
      "87d1c71e3fe84cb8a18f34fc4268cd58",
      "81d0f797d5b34affa9ad5c76d3dc5e2c",
      "c7ed5869704c4e74b0b220cb59227839",
      "d282378093884685a66e7e913a3dbdbc",
      "041ab2ae937b46b58c1c4605547686a3",
      "8f555910e24b4a5b8fd064d5c8d05b11",
      "a2766ffd9dea40548dfec09f0b1327e1",
      "f2811967b5d64ff8a42ef4e54ef29c1b",
      "7a24f38c345e4be5a7762d8b0cb8671e",
      "5aadb7837b86455dae18fad20ec95693",
      "81dc8474aaf54352af0d1daf9c81e8cc",
      "b837dd5ccd694c8e9bebae7b61895764",
      "0291da0f2c134ee7a02e713009b7bf3c",
      "55172d9f58cf4d0e88a952584de864ad",
      "f1c5ef0a95324c7cadff185738e77c98"
     ]
    },
    "id": "v2RkAejpgNo8",
    "outputId": "cfe9e2ce-394f-4d86-a776-d06d817b5e2a"
   },
   "outputs": [],
   "source": [
    "model_name = \"gpt2-medium\"\n",
    "tokenizer = AutoTokenizer.from_pretrained(model_name)\n",
    "model = AutoModelForCausalLM.from_pretrained(model_name)"
   ]
  },
  {
   "cell_type": "code",
   "execution_count": null,
   "metadata": {
    "id": "ROdxKKtad80N"
   },
   "outputs": [],
   "source": [
    "if tokenizer.pad_token is None:\n",
    "    tokenizer.pad_token = tokenizer.eos_token\n",
    "    model.config.pad_token_id = tokenizer.eos_token_id\n",
    "\n",
    "def generate_answer(context, question, max_new_tokens=150):\n",
    "    prompt = f\"Context:\\n{context}\\n\\nQuestion: {question}\\nAnswer:\"\n",
    "    inputs = tokenizer(prompt, return_tensors=\"pt\", truncation=True, max_length=1024, padding=\"max_length\")\n",
    "    outputs = model.generate(\n",
    "        input_ids=inputs[\"input_ids\"],\n",
    "        attention_mask=inputs[\"attention_mask\"],\n",
    "        max_new_tokens=max_new_tokens,\n",
    "        pad_token_id=tokenizer.pad_token_id\n",
    "    )\n",
    "    full_output = tokenizer.decode(outputs[0], skip_special_tokens=True)\n",
    "    return full_output.split(\"Answer:\")[-1].strip()\n",
    "\n",
    "def ask_question_over_pdf(pdf_path, question):\n",
    "    full_text = extract_text_from_pdf(pdf_path)\n",
    "    chunks = chunk_text(full_text, max_chunk_length=1000)\n",
    "    answers = []\n",
    "    for i, chunk in enumerate(chunks[:5]):\n",
    "        answer = generate_answer(chunk, question)\n",
    "        answers.append(answer)\n",
    "    return \"\\n\\n---\\n\\n\".join(answers)"
   ]
  },
  {
   "cell_type": "markdown",
   "metadata": {
    "id": "kw8l2DBrgfKF"
   },
   "source": [
    "# **Running The Pipeline**"
   ]
  },
  {
   "cell_type": "code",
   "execution_count": null,
   "metadata": {
    "colab": {
     "base_uri": "https://localhost:8080/"
    },
    "id": "TI2NDhcPgmn6",
    "outputId": "c2f1a547-c4ef-4358-b5f1-2c59d2aca2d8"
   },
   "outputs": [],
   "source": [
    "pdf_path = \"/content/RIL-Integrated-Annual-Report-2023-24 (1).pdf\"  # Replace with your actual PDF path\n",
    "question = \"What are the key financial highlights?\"\n",
    "print(\"Q:\", question)\n",
    "print(\"A:\", ask_question_over_pdf(pdf_path, question))"
   ]
  },
  {
   "cell_type": "code",
   "execution_count": null,
   "metadata": {
    "id": "EMsEhw_Ng5TY"
   },
   "outputs": [],
   "source": []
  }
 ],
 "metadata": {
  "colab": {
   "provenance": [],
   "toc_visible": true
  },
  "kernelspec": {
   "display_name": "Python (Pyodide)",
   "language": "python",
   "name": "python"
  },
  "language_info": {
   "name": "python"
  }
 },
 "nbformat": 4,
 "nbformat_minor": 4
}
